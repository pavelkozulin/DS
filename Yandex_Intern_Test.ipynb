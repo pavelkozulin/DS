{
  "nbformat": 4,
  "nbformat_minor": 0,
  "metadata": {
    "colab": {
      "name": "Yandex_Intern_Test.ipynb",
      "provenance": [],
      "collapsed_sections": [],
      "authorship_tag": "ABX9TyOW4VoT3BH0tfOXnM1NiWjP",
      "include_colab_link": true
    },
    "kernelspec": {
      "name": "python3",
      "display_name": "Python 3"
    },
    "language_info": {
      "name": "python"
    }
  },
  "cells": [
    {
      "cell_type": "markdown",
      "metadata": {
        "id": "view-in-github",
        "colab_type": "text"
      },
      "source": [
        "<a href=\"https://colab.research.google.com/github/pavelkozulin/DS/blob/main/Yandex_Intern_Test.ipynb\" target=\"_parent\"><img src=\"https://colab.research.google.com/assets/colab-badge.svg\" alt=\"Open In Colab\"/></a>"
      ]
    },
    {
      "cell_type": "code",
      "source": [
        "from numpy.random import uniform\n",
        "from math import sin, cos, pi\n",
        "import statistics\n",
        "import matplotlib.pyplot\n",
        "\n",
        "def g1():\n",
        "\ta = uniform(0,1)\n",
        "\tb = uniform(0,1)\n",
        "\treturn ((((a * cos(2 * pi * b)))**2 + ((a * sin(2 * pi * b))**2))**0.5)\n",
        "\n",
        "n = 10000\n",
        "set1 = []\n",
        "\n",
        "for _ in range(n):\n",
        "\tset1.append(g1())\n",
        "\n",
        "#print(set1)\n",
        "print('mean = ',statistics.mean(set1))\n",
        "print('StDev = ',statistics.pstdev(set1))\n",
        "\n",
        "matplotlib.pyplot.hist(set1, bins=50)"
      ],
      "metadata": {
        "colab": {
          "base_uri": "https://localhost:8080/",
          "height": 630
        },
        "id": "tYJkS_bW458F",
        "outputId": "a83adcd9-67b7-4214-f3f0-167f691b3ec0"
      },
      "execution_count": 5,
      "outputs": [
        {
          "output_type": "stream",
          "name": "stdout",
          "text": [
            "mean =  0.49307134613276915\n",
            "StDev =  0.28850121396614015\n"
          ]
        },
        {
          "output_type": "execute_result",
          "data": {
            "text/plain": [
              "(array([220., 227., 188., 213., 213., 203., 194., 195., 191., 212., 175.,\n",
              "        220., 211., 188., 213., 199., 206., 201., 174., 216., 235., 208.,\n",
              "        179., 195., 230., 211., 217., 194., 189., 209., 188., 186., 190.,\n",
              "        220., 209., 204., 213., 170., 189., 183., 168., 197., 184., 213.,\n",
              "        173., 186., 203., 192., 199., 207.]),\n",
              " array([3.39929435e-05, 2.00291981e-02, 4.00244033e-02, 6.00196085e-02,\n",
              "        8.00148137e-02, 1.00010019e-01, 1.20005224e-01, 1.40000429e-01,\n",
              "        1.59995634e-01, 1.79990840e-01, 1.99986045e-01, 2.19981250e-01,\n",
              "        2.39976455e-01, 2.59971660e-01, 2.79966866e-01, 2.99962071e-01,\n",
              "        3.19957276e-01, 3.39952481e-01, 3.59947686e-01, 3.79942892e-01,\n",
              "        3.99938097e-01, 4.19933302e-01, 4.39928507e-01, 4.59923712e-01,\n",
              "        4.79918918e-01, 4.99914123e-01, 5.19909328e-01, 5.39904533e-01,\n",
              "        5.59899738e-01, 5.79894944e-01, 5.99890149e-01, 6.19885354e-01,\n",
              "        6.39880559e-01, 6.59875764e-01, 6.79870969e-01, 6.99866175e-01,\n",
              "        7.19861380e-01, 7.39856585e-01, 7.59851790e-01, 7.79846995e-01,\n",
              "        7.99842201e-01, 8.19837406e-01, 8.39832611e-01, 8.59827816e-01,\n",
              "        8.79823021e-01, 8.99818227e-01, 9.19813432e-01, 9.39808637e-01,\n",
              "        9.59803842e-01, 9.79799047e-01, 9.99794253e-01]),\n",
              " <a list of 50 Patch objects>)"
            ]
          },
          "metadata": {},
          "execution_count": 5
        },
        {
          "output_type": "display_data",
          "data": {
            "image/png": "[encoded data removed]",
            "text/plain": [
              "<Figure size 432x288 with 1 Axes>"
            ]
          },
          "metadata": {
            "needs_background": "light"
          }
        }
      ]
    },
    {
      "cell_type": "code",
      "source": [
        "from numpy.random import uniform\n",
        "import statistics\n",
        "import matplotlib.pyplot\n",
        "\n",
        "def g2():  \n",
        "    while True:  \n",
        "        x = uniform(-1, 1)  \n",
        "        y = uniform(-1, 1)  \n",
        "        if x ** 2 + y ** 2 > 1:  \n",
        "            continue  \n",
        "        return ((x**2 + y**2)**0.5)\n",
        "\n",
        "n = 10000\n",
        "set2 = []\n",
        "\n",
        "for _ in range(n):\n",
        "\tset2.append(g2())\n",
        " \n",
        "#print(set2)\n",
        "print('mean = ',statistics.mean(set2))\n",
        "print('StDev = ',statistics.pstdev(set2))\n",
        "\n",
        "matplotlib.pyplot.hist(set2, bins=50,)"
      ],
      "metadata": {
        "colab": {
          "base_uri": "https://localhost:8080/",
          "height": 595
        },
        "id": "RZm3KXh162b4",
        "outputId": "200b0b1e-f67b-4d8f-a463-17eaf84d8fff"
      },
      "execution_count": 7,
      "outputs": [
        {
          "output_type": "stream",
          "name": "stdout",
          "text": [
            "mean =  0.669597193460558\n",
            "StDev =  0.23513070843502432\n"
          ]
        },
        {
          "output_type": "execute_result",
          "data": {
            "text/plain": [
              "(array([  4.,  18.,  20.,  24.,  41.,  45.,  63.,  68.,  67.,  79., 106.,\n",
              "        104., 128., 114., 102., 112., 127., 144., 140., 161., 158., 169.,\n",
              "        175., 164., 204., 203., 205., 227., 229., 224., 232., 248., 243.,\n",
              "        259., 278., 289., 299., 299., 319., 316., 314., 333., 333., 374.,\n",
              "        349., 380., 323., 389., 395., 403.]),\n",
              " array([0.01616806, 0.03584453, 0.055521  , 0.07519747, 0.09487394,\n",
              "        0.11455041, 0.13422688, 0.15390335, 0.17357982, 0.19325629,\n",
              "        0.21293276, 0.23260924, 0.25228571, 0.27196218, 0.29163865,\n",
              "        0.31131512, 0.33099159, 0.35066806, 0.37034453, 0.390021  ,\n",
              "        0.40969747, 0.42937394, 0.44905041, 0.46872688, 0.48840335,\n",
              "        0.50807982, 0.52775629, 0.54743276, 0.56710923, 0.5867857 ,\n",
              "        0.60646217, 0.62613864, 0.64581511, 0.66549158, 0.68516805,\n",
              "        0.70484452, 0.72452099, 0.74419746, 0.76387393, 0.7835504 ,\n",
              "        0.80322687, 0.82290334, 0.84257981, 0.86225628, 0.88193275,\n",
              "        0.90160922, 0.92128569, 0.94096216, 0.96063863, 0.9803151 ,\n",
              "        0.99999157]),\n",
              " <a list of 50 Patch objects>)"
            ]
          },
          "metadata": {},
          "execution_count": 7
        },
        {
          "output_type": "display_data",
          "data": {
            "image/png": "[encoded data removed]",
            "text/plain": [
              "<Figure size 432x288 with 1 Axes>"
            ]
          },
          "metadata": {
            "needs_background": "light"
          }
        }
      ]
    }
  ]
}